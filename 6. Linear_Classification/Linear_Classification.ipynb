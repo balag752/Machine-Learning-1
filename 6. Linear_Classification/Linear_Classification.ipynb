{
 "cells": [
  {
   "cell_type": "markdown",
   "metadata": {},
   "source": [
    "# Linear Classification\n",
    "\n",
    "In this lab you will implement parts of a linear classification model using the regularized empirical risk minimization principle. By completing this lab and analysing the code, you gain deeper understanding of these type of models, and of gradient descent.\n",
    "\n",
    "\n",
    "## Problem Setting\n",
    "\n",
    "The dataset describes diagnosing of cardiac Single Proton Emission Computed Tomography (SPECT) images. Each of the patients is classified into two categories: normal (1) and abnormal (0). The training data contains 80 SPECT images from which 22 binary features have been extracted. The goal is to predict the label for an unseen test set of 187 tomography images."
   ]
  },
  {
   "cell_type": "code",
   "execution_count": 1,
   "metadata": {
    "scrolled": true
   },
   "outputs": [
    {
     "name": "stderr",
     "output_type": "stream",
     "text": [
      "C:\\Users\\Dell\\Anaconda3\\lib\\site-packages\\ipykernel_launcher.py:16: FutureWarning: Method .as_matrix will be removed in a future version. Use .values instead.\n",
      "  app.launch_new_instance()\n",
      "C:\\Users\\Dell\\Anaconda3\\lib\\site-packages\\ipykernel_launcher.py:17: FutureWarning: Method .as_matrix will be removed in a future version. Use .values instead.\n"
     ]
    }
   ],
   "source": [
    "import urllib\n",
    "import pandas as pd\n",
    "import numpy as np\n",
    "# for auto-reloading external modules\n",
    "# see http://stackoverflow.com/questions/1907993/autoreload-of-modules-in-ipython\n",
    "%load_ext autoreload\n",
    "%autoreload 2\n",
    "\n",
    "testfile = urllib.request.URLopener()\n",
    "testfile.retrieve(\"http://archive.ics.uci.edu/ml/machine-learning-databases/spect/SPECT.train\", \"SPECT.train\")\n",
    "testfile.retrieve(\"http://archive.ics.uci.edu/ml/machine-learning-databases/spect/SPECT.test\", \"SPECT.test\")\n",
    "\n",
    "df_train = pd.read_csv('SPECT.train',header=None)\n",
    "df_test = pd.read_csv('SPECT.test',header=None)\n",
    "\n",
    "train = df_train.as_matrix()\n",
    "test = df_test.as_matrix()\n",
    "\n",
    "y_train = train[:,0]\n",
    "X_train = train[:,1:]\n",
    "y_test = test[:,0]\n",
    "X_test = test[:,1:]"
   ]
  },
  {
   "cell_type": "markdown",
   "metadata": {},
   "source": [
    "### Exercise 1\n",
    "\n",
    "Analyze the function learn_reg_ERM(X,y,lambda) which for a given $n\\times m$ data matrix $\\textbf{X}$ and binary class label $\\textbf{y}$ learns and returns a linear model $\\textbf{w}$.\n",
    "The binary class label has to be transformed so that its range is $\\left \\{-1,1 \\right \\}$. \n",
    "The trade-off parameter between the empirical loss and the regularizer is given by $\\lambda > 0$. \n",
    "Try to understand each step of the learning algorithm and comment each line."
   ]
  },
  {
   "cell_type": "code",
   "execution_count": 2,
   "metadata": {},
   "outputs": [],
   "source": [
    "def learn_reg_ERM(X,y,lbda):\n",
    "    max_iter = 200\n",
    "    e  = 0.001\n",
    "    alpha = 1.\n",
    "    \n",
    "    # initial random beta values\n",
    "    \n",
    "    w = np.random.randn(X.shape[1]);\n",
    "    for k in np.arange(max_iter):\n",
    "        \n",
    "        # Decision function : product of x and beta values \n",
    "        h = np.dot(X,w)\n",
    "        \n",
    "        # Finding hinge loss and gradient between predicted and actual\n",
    "        l,lg = loss(h, y)\n",
    "#         print ('loss: {}'.format(np.mean(l)))\n",
    "        \n",
    "        # Computing L2 -regularizer and the gradient of the regularizer function at point  𝐰\n",
    "        r,rg = reg(w, lbda)\n",
    "        \n",
    "        # Applying  gradient with X value and adjusting with regularizer paramter\n",
    "        g = np.dot(X.T,lg) + rg \n",
    "        \n",
    "        # Determining step size\n",
    "        if (k > 0):\n",
    "            alpha = alpha * (np.dot(g_old.T,g_old))/(np.dot((g_old - g).T,g_old))\n",
    "        \n",
    "        # reforming the weights based on gradient and step value\n",
    "        w = w - alpha * g\n",
    "        \n",
    "        # Comparing distance 1 norm distance , if it is lower than e measurement, model is ready\n",
    "        if (np.linalg.norm(alpha * g) < e):\n",
    "            break\n",
    "            \n",
    "        # preserving the current gradient value for next iteration\n",
    "        g_old = g\n",
    "        \n",
    "    return w"
   ]
  },
  {
   "cell_type": "markdown",
   "metadata": {},
   "source": [
    "### Exercise 2\n",
    "\n",
    "Fill in the code for the function loss(h,y) which computes the hinge loss and its gradient. \n",
    "This function takes a given vector $\\textbf{y}$ with the true labels $\\in \\left \\{-1,1\\right \\}$ and a vector $\\textbf{h}$ with the function values of the linear model as inputs. The function returns a vector $\\textbf{l}$ with the hinge loss $\\max(0, 1 − y_{i} h_{i})$ and a vector $\\textbf{g}$ with the gradients of the hinge loss at the points $h_i$. \n",
    "\n",
    "The partial derivative of the hinge loss $h_i$ with respect to the $i$-th position of the weight vector $\\textbf{w}$ is $g_{i} = −y x_{i}$ if $l_{i} > 0$, else $g_{i} = 0$)."
   ]
  },
  {
   "cell_type": "code",
   "execution_count": 123,
   "metadata": {},
   "outputs": [],
   "source": [
    "def loss(h, y):\n",
    "    ##################\n",
    "    #INSERT CODE HERE#\n",
    "    ##################\n",
    "    \n",
    "    g=[0]*h.shape[0]\n",
    "    expr = 1-np.multiply(h, y)\n",
    "    l= np.maximum(0, expr)\n",
    "    \n",
    "    for i in range(h.shape[0]) :\n",
    "        if l[i] > 0:\n",
    "#             g[i]=np.dot(-1*y,X[:,i])\n",
    "            g[i]=sum(-1*y*h[10])\n",
    "    g=np.array(g)\n",
    "    return l, l"
   ]
  },
  {
   "cell_type": "code",
   "execution_count": 1,
   "metadata": {},
   "outputs": [],
   "source": [
    "def loss(h, y):\n",
    "    ##################\n",
    "    #INSERT CODE HERE#\n",
    "    ##################\n",
    "    y_index = y<=0\n",
    "    y[y_index] = -1\n",
    "    loss = []\n",
    "    grad = []\n",
    "    for i in range(len(y)):\n",
    "        li = 0 if 1-y[i]*h[i]<0 else 1-y[i]*h[i]\n",
    "        loss.append(li)\n",
    "        grad.append(-y[i]*h[i] if li>0 else 0)\n",
    "    \n",
    "    l = np.array(loss)\n",
    "    g = np.array(grad)\n",
    "    return l, g"
   ]
  },
  {
   "cell_type": "code",
   "execution_count": 2,
   "metadata": {},
   "outputs": [],
   "source": [
    "def loss(h, y):\n",
    "    ##################\n",
    "    #INSERT CODE HERE#\n",
    "    ##################\n",
    "    l=np.maximum(0,1-y*h)\n",
    "    g=-y*(l>0)\n",
    "    \n",
    "    return l, g"
   ]
  },
  {
   "cell_type": "markdown",
   "metadata": {},
   "source": [
    "### Exercise 3\n",
    "\n",
    "Fill in the code for the function reg(w,lambda) which computes the $\\mathcal{L}_2$-regularizer and the gradient of the regularizer function at point $\\textbf{w}$. \n",
    "\n",
    "\n",
    "$$r = \\frac{\\lambda}{2} \\textbf{w}^{T}\\textbf{w}$$\n",
    "\n",
    "$$g = \\lambda \\textbf{w}$$"
   ]
  },
  {
   "cell_type": "code",
   "execution_count": 17,
   "metadata": {},
   "outputs": [],
   "source": [
    "def reg(w, lbda):\n",
    "    ##################\n",
    "    #INSERT CODE HERE#\n",
    "    ##################\n",
    "    r=(lbda/2)*w.T*w\n",
    "    g=lbda*w\n",
    "    return r, g"
   ]
  },
  {
   "cell_type": "markdown",
   "metadata": {},
   "source": [
    "### Exercise 4\n",
    "\n",
    "Fill in the code for the function predict(w,x) which predicts the class label $y$ for a data point $\\textbf{x}$ or a matrix $X$ of data points (row-wise) for a previously trained linear model $\\textbf{w}$. If there is only a data point given, the function is supposed to return a scalar value. If a matrix is given a vector of predictions is supposed to be returned."
   ]
  },
  {
   "cell_type": "code",
   "execution_count": 65,
   "metadata": {},
   "outputs": [],
   "source": [
    "def predict(w, X):\n",
    "    ##################\n",
    "    #INSERT CODE HERE#\n",
    "    ##################\n",
    "    \n",
    "    #preds=[0]*X.shape[0]\n",
    "    #for j in range(X.shape[0]):\n",
    "    #    for  i in range(X.shape[1]):\n",
    "    #        preds[j]+=-1*X[j,i]*w[i]\n",
    "    \n",
    "    preds=np.dot(X,w)\n",
    "    \n",
    "    p=np.array([ 0 if x < 0 else 1 for x in preds])\n",
    "    \n",
    "    return p"
   ]
  },
  {
   "cell_type": "markdown",
   "metadata": {},
   "source": [
    "### Exercise 5\n",
    "\n",
    "#### 5.1 \n",
    "Train a linear model on the training data and classify all 187 test instances afterwards using the function predict. \n",
    "Please note that the given class labels are in the range $\\left \\{0,1 \\right \\}$, however the learning algorithm expects a label in the range of $\\left \\{-1,1 \\right \\}$. Then, compute the accuracy of your trained linear model on both the training and the test data. "
   ]
  },
  {
   "cell_type": "code",
   "execution_count": 58,
   "metadata": {},
   "outputs": [],
   "source": [
    "def converts(data, to=-1, frm=0):\n",
    "    nm=data\n",
    "    try :\n",
    "        for i in range(data.shape[0]):\n",
    "            for j in range(data.shape[1]):\n",
    "                if(data[i,j]==frm):\n",
    "                    nm[i,j]=to\n",
    "                \n",
    "    except IndexError as error: \n",
    "        nm=np.array([to if x==frm else 1 for x in data])\n",
    "    \n",
    "    return nm"
   ]
  },
  {
   "cell_type": "code",
   "execution_count": 63,
   "metadata": {},
   "outputs": [],
   "source": [
    "##################\n",
    "#INSERT CODE HERE#\n",
    "##################\n",
    "from scipy import stats\n",
    "X_train_std=converts(X_train)\n",
    "y_train_std=converts(y_train)\n",
    "w=learn_reg_ERM(X_train_std,y_train_std,0.8)\n",
    "preds_train=predict(w,X_train_std)\n",
    "\n",
    "X_test_std=converts(X_test) \n",
    "y_test_std=converts(y_test)\n",
    "preds_test=predict(w,X_test_std)\n"
   ]
  },
  {
   "cell_type": "markdown",
   "metadata": {},
   "source": [
    "#### 5.2\n",
    "Compare the accuracy of the linear model with the accuracy of a random forest and a decision tree on the training and test data set."
   ]
  },
  {
   "cell_type": "code",
   "execution_count": 64,
   "metadata": {
    "scrolled": true
   },
   "outputs": [
    {
     "name": "stdout",
     "output_type": "stream",
     "text": [
      "Linear classification\n",
      "\n",
      "R^2 Value\n",
      "Train : 0.30000000000000004\n",
      "Test : -4.943410852713178\n",
      "\n",
      "MSE Value\n",
      "Train : 0.825\n",
      "Test : 0.5614973262032086\n",
      "\n",
      "Random Forest classification\n",
      "\n",
      "R^2 Value\n",
      "Train : 0.65\n",
      "Test : -3.0589147286821703\n",
      "\\Accuacy Value\n",
      "Train : 0.9125\n",
      "Test : 0.7005347593582888\n"
     ]
    },
    {
     "name": "stderr",
     "output_type": "stream",
     "text": [
      "C:\\Users\\Dell\\Anaconda3\\lib\\site-packages\\sklearn\\ensemble\\forest.py:246: FutureWarning: The default value of n_estimators will change from 10 in version 0.20 to 100 in 0.22.\n",
      "  \"10 in version 0.20 to 100 in 0.22.\", FutureWarning)\n"
     ]
    }
   ],
   "source": [
    "##################\n",
    "#INSERT CODE HERE#\n",
    "##################\n",
    "\n",
    "from sklearn.ensemble import RandomForestClassifier\n",
    "from sklearn.metrics import r2_score\n",
    "from sklearn.metrics import mean_squared_error\n",
    "from sklearn.metrics import accuracy_score\n",
    "\n",
    "print('Linear classification')\n",
    "\n",
    "print('\\nR^2 Value')\n",
    "print(\"Train : \"+str(r2_score(y_train, preds_train)))\n",
    "print(\"Test : \"+str(r2_score(y_test, preds_test)))\n",
    "\n",
    "print('\\nMSE Value')\n",
    "print(\"Train : \"+str(accuracy_score(y_train,preds_train)))\n",
    "print(\"Test : \"+str(accuracy_score(y_test,preds_test)))\n",
    "\n",
    "\n",
    "clf = RandomForestClassifier()\n",
    "rd=clf.fit(X_train,y_train)\n",
    "preds_train_rf=clf.predict(X_train)\n",
    "preds_test_rf=clf.predict(X_test)\n",
    "\n",
    "\n",
    "print('\\nRandom Forest classification')\n",
    "print('\\nR^2 Value')\n",
    "print(\"Train : \"+str(r2_score(y_train, preds_train_rf)))\n",
    "print(\"Test : \"+str(r2_score(y_test, preds_test_rf)))\n",
    "print('\\nAccuracy Value')\n",
    "print(\"Train : \"+str(accuracy_score(y_train,preds_train_rf)))\n",
    "print(\"Test : \"+str(accuracy_score(y_test,preds_test_rf)))"
   ]
  },
  {
   "cell_type": "code",
   "execution_count": null,
   "metadata": {},
   "outputs": [],
   "source": []
  },
  {
   "cell_type": "code",
   "execution_count": null,
   "metadata": {},
   "outputs": [],
   "source": []
  }
 ],
 "metadata": {
  "kernelspec": {
   "display_name": "Python 3",
   "language": "python",
   "name": "python3"
  },
  "language_info": {
   "codemirror_mode": {
    "name": "ipython",
    "version": 3
   },
   "file_extension": ".py",
   "mimetype": "text/x-python",
   "name": "python",
   "nbconvert_exporter": "python",
   "pygments_lexer": "ipython3",
   "version": "3.7.3"
  }
 },
 "nbformat": 4,
 "nbformat_minor": 1
}
